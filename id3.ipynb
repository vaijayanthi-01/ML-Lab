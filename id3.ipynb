{
 "cells": [
  {
   "cell_type": "code",
   "execution_count": null,
   "id": "b1ceeb81",
   "metadata": {},
   "outputs": [],
   "source": [
    "import pandas as pd\n",
    "import numpy as np\n",
    "from numpy import log2 as log\n",
    "\n",
    "eps = np.finfo(float).eps\n",
    "\n",
    "df = pd.read_csv('tennis_id3.csv')\n",
    "\n",
    "\n",
    "for key in df.keys()[:-1]:\n",
    "    df[key] = df[key].astype(str).str.lower()\n",
    "\n",
    "result = df.keys()[-1]\n",
    "unique_result = df[result].unique()"
   ]
  },
  {
   "cell_type": "code",
   "execution_count": null,
   "id": "cfbb9631",
   "metadata": {},
   "outputs": [],
   "source": [
    "def find_entropy(df):\n",
    "    entropy = 0\n",
    "    for value in unique_result:\n",
    "        fraction = df[result].value_counts()[value]/len(df[result])\n",
    "        entropy += -fraction*np.log2(fraction)\n",
    "    return entropy\n"
   ]
  },
  {
   "cell_type": "code",
   "execution_count": null,
   "id": "521a20fb",
   "metadata": {},
   "outputs": [],
   "source": [
    "def find_entropy_attribute(df,att):  \n",
    "    variables = df[att].unique()\n",
    "    ent2 = 0\n",
    "    for var in variables:\n",
    "        ent = 0\n",
    "        for res in unique_result:\n",
    "            num = len(df[att][df[att]==var][df[result] == res])\n",
    "            total = len(df[att][df[att]==var])\n",
    "            frac = num/(total+eps)\n",
    "            ent += -frac*log(frac+eps)\n",
    "        frac2 = total/len(df)\n",
    "        ent2 += -frac2*ent\n",
    "    return abs(ent2)"
   ]
  },
  {
   "cell_type": "code",
   "execution_count": null,
   "id": "a9aafd6e",
   "metadata": {},
   "outputs": [],
   "source": [
    "def find_winner(df):\n",
    "    IG = []\n",
    "    for key in df.keys()[:-1]:\n",
    "        IG.append(find_entropy(df)-find_entropy_attribute(df,key))\n",
    "    return df.keys()[:-1][np.argmax(IG)]\n",
    "\n",
    "def sub_table(df, node, value):\n",
    "    return df[df[node] == value].reset_index(drop=True)"
   ]
  },
  {
   "cell_type": "code",
   "execution_count": null,
   "id": "5302dd87",
   "metadata": {},
   "outputs": [],
   "source": [
    "def buildtree(df, tree=None): \n",
    "    result = df.keys()[-1]  \n",
    "    winner = find_winner(df)\n",
    "    attValue = np.unique(df[winner])  \n",
    "    if tree is None:                    \n",
    "        tree={}\n",
    "        tree[winner] = {}\n",
    "    for value in attValue:     \n",
    "        subtable = sub_table(df,winner,value)\n",
    "        clValue,counts = np.unique(subtable[result],return_counts=True)                               \n",
    "        if len(counts)==1:\n",
    "            tree[winner][value] = clValue[0]                                                    \n",
    "        else:        \n",
    "            tree[winner][value] = buildtree(subtable)\n",
    "    return tree"
   ]
  },
  {
   "cell_type": "code",
   "execution_count": null,
   "id": "aaac2648",
   "metadata": {},
   "outputs": [],
   "source": [
    "ID3 = buildtree(df)\n",
    "ID3"
   ]
  },
  {
   "cell_type": "code",
   "execution_count": null,
   "id": "0a83e4e9",
   "metadata": {},
   "outputs": [],
   "source": [
    "def predict(inputs, tree):\n",
    "    for nodes in tree.keys():\n",
    "        value = inputs[nodes]\n",
    "        tree = tree[nodes][value]\n",
    "        prediction = 0\n",
    "        if type(tree) is dict:\n",
    "              prediction = predict(inputs, tree)\n",
    "        else:\n",
    "            prediction = tree\n",
    "            break;   \n",
    "    return prediction"
   ]
  },
  {
   "cell_type": "code",
   "execution_count": null,
   "id": "4f6af142",
   "metadata": {},
   "outputs": [],
   "source": [
    "inputs = {}\n",
    "\n",
    "for column in df.keys()[:-1].tolist():\n",
    "    inputs[column] = (input(f'Enter {column} ')).lower()\n",
    "\n",
    "print(f'The result if the user will eat is : {predict(inputs, ID3)}')\n"
   ]
  },
  {
   "cell_type": "code",
   "execution_count": null,
   "id": "cd4042f2",
   "metadata": {},
   "outputs": [],
   "source": []
  }
 ],
 "metadata": {
  "kernelspec": {
   "display_name": "Python 3 (ipykernel)",
   "language": "python",
   "name": "python3"
  },
  "language_info": {
   "codemirror_mode": {
    "name": "ipython",
    "version": 3
   },
   "file_extension": ".py",
   "mimetype": "text/x-python",
   "name": "python",
   "nbconvert_exporter": "python",
   "pygments_lexer": "ipython3",
   "version": "3.9.7"
  }
 },
 "nbformat": 4,
 "nbformat_minor": 5
}
