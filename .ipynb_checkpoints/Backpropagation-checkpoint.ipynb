{
 "cells": [
  {
   "cell_type": "code",
   "execution_count": 2,
   "id": "09a6b062",
   "metadata": {},
   "outputs": [
    {
     "name": "stdout",
     "output_type": "stream",
     "text": [
      "Enter the number of iterations: 100\n",
      "Mean squared error = 0.04578335879756053\n",
      "Output = [0.5266834  0.61720248]\n"
     ]
    }
   ],
   "source": [
    "import numpy as np\n",
    "\n",
    "x = np.array([[0.2, 0.8, 0.3],[0.8, 0.2, 0.3],[0.3, 0.9, 0.4],[0.7, 0.4, 0.6]])\n",
    "y = np.array([[0.3 ,0.8], [0.8, 0.3],[0.4, 0.9],[0.6, 0.5]])\n",
    "\n",
    "input_size = x.shape[1]\n",
    "output_size = y.shape[1]\n",
    "hidden_size = 3\n",
    "\n",
    "learning_rate = 0.2\n",
    "n = len(y)\n",
    "\n",
    "w1 = np.random.normal(scale=0.5, size=(input_size, hidden_size))\n",
    "w2 = np.random.normal(scale=0.5, size=(hidden_size, output_size))\n",
    "\n",
    "def sigmoid(x):\n",
    "    return 1/(1+np.exp(-x))\n",
    "\n",
    "def mean_sq_error(pred, true):\n",
    "    return np.average((pred - true)**2)\n",
    "\n",
    "def backpropagation(num):\n",
    "    global w1, w2\n",
    "    for i in range(num):\n",
    "        #forward pass\n",
    "        hidden_in = np.dot(x, w1)\n",
    "        hidden_out = sigmoid(hidden_in)\n",
    "        output_in = np.dot(hidden_out, w2)\n",
    "        output_out = sigmoid(output_in)\n",
    "        mse = mean_sq_error(output_out, y)\n",
    "        #backward pass\n",
    "        output_error = output_out - y\n",
    "        output_delta = output_error * output_out * (1-output_out)\n",
    "        hidden_error = np.dot(output_delta, w2.T)\n",
    "        hidden_delta = hidden_error * hidden_out * (1-hidden_out)\n",
    "        #update weights\n",
    "        w1 -= learning_rate * (np.dot(x.T, hidden_error)/n)\n",
    "        w2 -= learning_rate * (np.dot(hidden_out.T, output_error)/n)\n",
    "    print('Mean squared error = {}'.format(mse))\n",
    "\n",
    "num = int(input('Enter the number of iterations: '))\n",
    "backpropagation(num)\n",
    "    \n",
    "a = [0.2, 0.8, 0.3]\n",
    "hidden_in = np.dot(a, w1)\n",
    "hidden_out = sigmoid(hidden_in)\n",
    "output_in = np.dot(hidden_out, w2)\n",
    "output_out = sigmoid(output_in)\n",
    "print('Output = {}'.format(output_out))"
   ]
  },
  {
   "cell_type": "code",
   "execution_count": null,
   "id": "3eb91568",
   "metadata": {},
   "outputs": [],
   "source": []
  }
 ],
 "metadata": {
  "kernelspec": {
   "display_name": "Python 3 (ipykernel)",
   "language": "python",
   "name": "python3"
  },
  "language_info": {
   "codemirror_mode": {
    "name": "ipython",
    "version": 3
   },
   "file_extension": ".py",
   "mimetype": "text/x-python",
   "name": "python",
   "nbconvert_exporter": "python",
   "pygments_lexer": "ipython3",
   "version": "3.9.7"
  }
 },
 "nbformat": 4,
 "nbformat_minor": 5
}
