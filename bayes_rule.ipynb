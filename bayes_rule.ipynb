{
 "cells": [
  {
   "cell_type": "code",
   "execution_count": 3,
   "id": "dcdaae04",
   "metadata": {},
   "outputs": [
    {
     "name": "stdout",
     "output_type": "stream",
     "text": [
      "Probability that a student is absent given tha today is Friday is 15.0%\n"
     ]
    }
   ],
   "source": [
    "prob_fri_and_abs = 0.03\n",
    "prob_fri = 0.2\n",
    "prob_abs_given_fri = prob_fri_and_abs / prob_fri\n",
    "prob_abs_given_fri *= 100\n",
    "print('Probability that a student is absent given tha today is Friday is {}%'.format(prob_abs_given_fri))"
   ]
  },
  {
   "cell_type": "code",
   "execution_count": null,
   "id": "d84e1095",
   "metadata": {},
   "outputs": [],
   "source": []
  }
 ],
 "metadata": {
  "kernelspec": {
   "display_name": "Python 3 (ipykernel)",
   "language": "python",
   "name": "python3"
  },
  "language_info": {
   "codemirror_mode": {
    "name": "ipython",
    "version": 3
   },
   "file_extension": ".py",
   "mimetype": "text/x-python",
   "name": "python",
   "nbconvert_exporter": "python",
   "pygments_lexer": "ipython3",
   "version": "3.9.7"
  }
 },
 "nbformat": 4,
 "nbformat_minor": 5
}
