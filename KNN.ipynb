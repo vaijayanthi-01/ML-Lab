{
 "cells": [
  {
   "cell_type": "code",
   "execution_count": 15,
   "id": "3b751d81",
   "metadata": {},
   "outputs": [],
   "source": [
    "import pandas as pd\n",
    "import math\n",
    "\n",
    "df = pd.read_csv('knn.csv')"
   ]
  },
  {
   "cell_type": "code",
   "execution_count": 16,
   "id": "cce7d3a3",
   "metadata": {},
   "outputs": [
    {
     "name": "stdout",
     "output_type": "stream",
     "text": [
      "Enter attendance: 76\n",
      "Enter marks: 20\n",
      "Enter k: 3\n",
      "Attendance = 76\n",
      "Marks = 20\n",
      "Result = Pass\n"
     ]
    }
   ],
   "source": [
    "attendance = int(input('Enter attendance: '))\n",
    "marks = int(input('Enter marks: '))\n",
    "k = int(input('Enter k: '))\n",
    "\n",
    "dist = []\n",
    "\n",
    "for i in range(30):\n",
    "    x = df['Attendance'][i]\n",
    "    y = df['Marks'][i]\n",
    "    euc_dist = math.sqrt((x-attendance)**2 + (y-marks)**2)\n",
    "    dist.append((euc_dist, i))\n",
    "\n",
    "dist = sorted(dist)\n",
    "\n",
    "cnt_pass = 0\n",
    "cnt_fail = 0\n",
    "\n",
    "for i in range(k):\n",
    "    idx = dist[i][1]\n",
    "    if df['Result'][idx] == 'Pass':\n",
    "        cnt_pass += 1 # or cnt_pass += (1/dist[i][0]) for distance-weighted knn\n",
    "    else:\n",
    "        cnt_fail += 1 # or cnt_fail += (1/dist[i][0]) for distance-weighted knn\n",
    "\n",
    "if cnt_pass > cnt_fail:\n",
    "    result = 'Pass'\n",
    "else:\n",
    "    result = 'Fail'\n",
    "\n",
    "print('Attendance = {}'.format(attendance))\n",
    "print('Marks = {}'.format(marks))\n",
    "print('Result = {}'.format(result))"
   ]
  },
  {
   "cell_type": "code",
   "execution_count": null,
   "id": "f3022843",
   "metadata": {},
   "outputs": [],
   "source": []
  }
 ],
 "metadata": {
  "kernelspec": {
   "display_name": "Python 3 (ipykernel)",
   "language": "python",
   "name": "python3"
  },
  "language_info": {
   "codemirror_mode": {
    "name": "ipython",
    "version": 3
   },
   "file_extension": ".py",
   "mimetype": "text/x-python",
   "name": "python",
   "nbconvert_exporter": "python",
   "pygments_lexer": "ipython3",
   "version": "3.9.7"
  }
 },
 "nbformat": 4,
 "nbformat_minor": 5
}
