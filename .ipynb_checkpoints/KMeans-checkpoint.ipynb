{
 "cells": [
  {
   "cell_type": "code",
   "execution_count": 7,
   "id": "562b92bf",
   "metadata": {},
   "outputs": [],
   "source": [
    "import pandas as pd\n",
    "import math\n",
    "\n",
    "df = pd.read_csv('kmeans.csv')"
   ]
  },
  {
   "cell_type": "code",
   "execution_count": 9,
   "id": "8a13797b",
   "metadata": {},
   "outputs": [
    {
     "name": "stdout",
     "output_type": "stream",
     "text": [
      "Enter the centroid: 14\n",
      "Enter the centroid: 26\n",
      "Enter the centroid: 1\n",
      "Enter the centroid: 7\n",
      "Enter the centroid: 20\n",
      "Clusters:\n",
      "[[14, 10, 13], [26, 5, 15, 25, 27], [1, 3, 4, 6, 8, 9, 17, 19, 22, 23, 24, 28, 30], [7, 18, 29], [20, 2, 11, 12, 16, 21]]\n"
     ]
    }
   ],
   "source": [
    "flag = [0]*30\n",
    "cen = [0]*5\n",
    "\n",
    "for i in range(5):\n",
    "    cen_pnt = int(input('Enter the centroid: '))\n",
    "    cen[i] = cen_pnt-1\n",
    "    flag[cen[i]] = 1\n",
    "\n",
    "clusters = [[None], [None], [None], [None], [None]]\n",
    "\n",
    "for i in range(5):\n",
    "    clusters[i][0] = cen[i]+1\n",
    "\n",
    "for i in range(30):\n",
    "    if flag[i] == 0:\n",
    "        x = int(df['Attendance'][i])\n",
    "        y = int(df['Marks'][i])\n",
    "        min_dist = 100000\n",
    "        clus_assign = 0\n",
    "        for j in range(5):\n",
    "            meanAtt = 0\n",
    "            meanMarks = 0\n",
    "            for k in range(len(clusters[j])):\n",
    "                z = clusters[j][k]-1\n",
    "                meanAtt += int(df['Attendance'][z])\n",
    "                meanMarks += int(df['Marks'][z])\n",
    "            meanAtt = meanAtt/len(clusters[j])\n",
    "            meanMarks = meanMarks/len(clusters[j])\n",
    "            euc_dist = math.sqrt((x-meanAtt)**2 + (y-meanMarks)**2)\n",
    "            if euc_dist < min_dist:\n",
    "                min_dist = euc_dist\n",
    "                clus_assign = j\n",
    "        clusters[clus_assign].append(i+1)\n",
    "\n",
    "print('Clusters:')\n",
    "print(clusters)"
   ]
  },
  {
   "cell_type": "code",
   "execution_count": null,
   "id": "40ff28f1",
   "metadata": {},
   "outputs": [],
   "source": []
  }
 ],
 "metadata": {
  "kernelspec": {
   "display_name": "Python 3 (ipykernel)",
   "language": "python",
   "name": "python3"
  },
  "language_info": {
   "codemirror_mode": {
    "name": "ipython",
    "version": 3
   },
   "file_extension": ".py",
   "mimetype": "text/x-python",
   "name": "python",
   "nbconvert_exporter": "python",
   "pygments_lexer": "ipython3",
   "version": "3.9.7"
  }
 },
 "nbformat": 4,
 "nbformat_minor": 5
}
