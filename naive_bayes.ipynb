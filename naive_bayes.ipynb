{
 "cells": [
  {
   "cell_type": "code",
   "execution_count": 1,
   "id": "be430d86",
   "metadata": {},
   "outputs": [
    {
     "data": {
      "text/html": [
       "<div>\n",
       "<style scoped>\n",
       "    .dataframe tbody tr th:only-of-type {\n",
       "        vertical-align: middle;\n",
       "    }\n",
       "\n",
       "    .dataframe tbody tr th {\n",
       "        vertical-align: top;\n",
       "    }\n",
       "\n",
       "    .dataframe thead th {\n",
       "        text-align: right;\n",
       "    }\n",
       "</style>\n",
       "<table border=\"1\" class=\"dataframe\">\n",
       "  <thead>\n",
       "    <tr style=\"text-align: right;\">\n",
       "      <th></th>\n",
       "      <th>Outlook</th>\n",
       "      <th>Temperature</th>\n",
       "      <th>Humidity</th>\n",
       "      <th>Windy</th>\n",
       "      <th>Play</th>\n",
       "    </tr>\n",
       "  </thead>\n",
       "  <tbody>\n",
       "    <tr>\n",
       "      <th>0</th>\n",
       "      <td>sunny</td>\n",
       "      <td>hot</td>\n",
       "      <td>high</td>\n",
       "      <td>False</td>\n",
       "      <td>no</td>\n",
       "    </tr>\n",
       "    <tr>\n",
       "      <th>1</th>\n",
       "      <td>sunny</td>\n",
       "      <td>hot</td>\n",
       "      <td>high</td>\n",
       "      <td>True</td>\n",
       "      <td>no</td>\n",
       "    </tr>\n",
       "    <tr>\n",
       "      <th>2</th>\n",
       "      <td>overcast</td>\n",
       "      <td>hot</td>\n",
       "      <td>high</td>\n",
       "      <td>False</td>\n",
       "      <td>yes</td>\n",
       "    </tr>\n",
       "    <tr>\n",
       "      <th>3</th>\n",
       "      <td>rainy</td>\n",
       "      <td>mild</td>\n",
       "      <td>high</td>\n",
       "      <td>False</td>\n",
       "      <td>yes</td>\n",
       "    </tr>\n",
       "    <tr>\n",
       "      <th>4</th>\n",
       "      <td>rainy</td>\n",
       "      <td>cool</td>\n",
       "      <td>normal</td>\n",
       "      <td>False</td>\n",
       "      <td>yes</td>\n",
       "    </tr>\n",
       "  </tbody>\n",
       "</table>\n",
       "</div>"
      ],
      "text/plain": [
       "    Outlook Temperature Humidity  Windy Play\n",
       "0     sunny         hot     high  False   no\n",
       "1     sunny         hot     high   True   no\n",
       "2  overcast         hot     high  False  yes\n",
       "3     rainy        mild     high  False  yes\n",
       "4     rainy        cool   normal  False  yes"
      ]
     },
     "execution_count": 1,
     "metadata": {},
     "output_type": "execute_result"
    }
   ],
   "source": [
    "import pandas as pd\n",
    "\n",
    "df = pd.read_csv('golf_df.csv')\n",
    "\n",
    "df.head()"
   ]
  },
  {
   "cell_type": "code",
   "execution_count": 6,
   "id": "4195a2bc",
   "metadata": {},
   "outputs": [],
   "source": [
    "results = df.keys()[-1]\n",
    "unique_results = df[results].unique()\n",
    "\n",
    "res = {}\n",
    "tot = {}\n",
    "cnt = 0\n",
    "\n",
    "for i in range(len(df)):\n",
    "    for result in unique_results:\n",
    "        if df[results][i] == result:\n",
    "            cnt += 1\n",
    "        tot[result] = cnt\n",
    "        res[result] = cnt/len(df)\n",
    "        \n",
    "def calc_prob(attribute, unique_attributes, dic):\n",
    "    for att in unique_attributes:\n",
    "        for res in unique_results:\n",
    "            cnt = 0\n",
    "            for i in range(len(df)):\n",
    "                if df[attribute][i] == att:\n",
    "                    if df[results][i] == res:\n",
    "                        cnt += 1\n",
    "            dic[att+'-'+res] = round(cnt/tot[res], 3)\n",
    "    print(dic)"
   ]
  },
  {
   "cell_type": "code",
   "execution_count": 8,
   "id": "6c7badac",
   "metadata": {},
   "outputs": [
    {
     "name": "stdout",
     "output_type": "stream",
     "text": [
      "{'sunny-no': 0.214, 'sunny-yes': 0.143, 'overcast-no': 0.0, 'overcast-yes': 0.286, 'rainy-no': 0.143, 'rainy-yes': 0.214}\n",
      "{'hot-no': 0.143, 'hot-yes': 0.143, 'mild-no': 0.143, 'mild-yes': 0.286, 'cool-no': 0.071, 'cool-yes': 0.214}\n",
      "{'high-no': 0.286, 'high-yes': 0.214, 'normal-no': 0.071, 'normal-yes': 0.429}\n"
     ]
    }
   ],
   "source": [
    "unique_outlook = df['Outlook'].unique()\n",
    "outlook = {}\n",
    "calc_prob('Outlook', unique_outlook, outlook)\n",
    "\n",
    "unique_temp = df['Temperature'].unique()\n",
    "temp = {}\n",
    "calc_prob('Temperature', unique_temp, temp)\n",
    "\n",
    "unique_humidity = df['Humidity'].unique()\n",
    "humidity = {}\n",
    "calc_prob('Humidity', unique_humidity, humidity)"
   ]
  },
  {
   "cell_type": "code",
   "execution_count": 14,
   "id": "4a6a7e47",
   "metadata": {},
   "outputs": [
    {
     "name": "stdout",
     "output_type": "stream",
     "text": [
      "Enter Outlook: sunny\n",
      "Enter Temperature: mild\n",
      "Enter Humidity: normal\n",
      "The result if the person will play = yes\n"
     ]
    }
   ],
   "source": [
    "p = {}\n",
    "def calc(o, t, h):\n",
    "    for result in unique_results:\n",
    "        p[result] = res[result] * outlook[o+'-'+result] * temp[t+'-'+result] * humidity[h+'-'+result]\n",
    "    final = max(zip(p.values(), p.keys()))[1]\n",
    "    return final\n",
    "\n",
    "o = input('Enter Outlook: ')\n",
    "t = input('Enter Temperature: ')\n",
    "h = input('Enter Humidity: ')\n",
    "\n",
    "print('The result if the person will play = {}'.format(calc(o, t, h)))"
   ]
  },
  {
   "cell_type": "code",
   "execution_count": null,
   "id": "0599c8c2",
   "metadata": {},
   "outputs": [],
   "source": []
  }
 ],
 "metadata": {
  "kernelspec": {
   "display_name": "Python 3 (ipykernel)",
   "language": "python",
   "name": "python3"
  },
  "language_info": {
   "codemirror_mode": {
    "name": "ipython",
    "version": 3
   },
   "file_extension": ".py",
   "mimetype": "text/x-python",
   "name": "python",
   "nbconvert_exporter": "python",
   "pygments_lexer": "ipython3",
   "version": "3.9.7"
  }
 },
 "nbformat": 4,
 "nbformat_minor": 5
}
