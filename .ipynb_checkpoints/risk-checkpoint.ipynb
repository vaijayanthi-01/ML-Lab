{
 "cells": [
  {
   "cell_type": "code",
   "execution_count": 1,
   "id": "1136df84",
   "metadata": {},
   "outputs": [
    {
     "data": {
      "text/html": [
       "<div>\n",
       "<style scoped>\n",
       "    .dataframe tbody tr th:only-of-type {\n",
       "        vertical-align: middle;\n",
       "    }\n",
       "\n",
       "    .dataframe tbody tr th {\n",
       "        vertical-align: top;\n",
       "    }\n",
       "\n",
       "    .dataframe thead th {\n",
       "        text-align: right;\n",
       "    }\n",
       "</style>\n",
       "<table border=\"1\" class=\"dataframe\">\n",
       "  <thead>\n",
       "    <tr style=\"text-align: right;\">\n",
       "      <th></th>\n",
       "      <th>Income</th>\n",
       "      <th>Recreation</th>\n",
       "      <th>Job</th>\n",
       "      <th>Status</th>\n",
       "      <th>Age Group</th>\n",
       "      <th>House Owner</th>\n",
       "      <th>Risk</th>\n",
       "    </tr>\n",
       "  </thead>\n",
       "  <tbody>\n",
       "    <tr>\n",
       "      <th>0</th>\n",
       "      <td>medium</td>\n",
       "      <td>skiing</td>\n",
       "      <td>design</td>\n",
       "      <td>single</td>\n",
       "      <td>twenties</td>\n",
       "      <td>no</td>\n",
       "      <td>high</td>\n",
       "    </tr>\n",
       "    <tr>\n",
       "      <th>1</th>\n",
       "      <td>high</td>\n",
       "      <td>golf</td>\n",
       "      <td>trading</td>\n",
       "      <td>married</td>\n",
       "      <td>forties</td>\n",
       "      <td>yes</td>\n",
       "      <td>low</td>\n",
       "    </tr>\n",
       "    <tr>\n",
       "      <th>2</th>\n",
       "      <td>low</td>\n",
       "      <td>speedway</td>\n",
       "      <td>transport</td>\n",
       "      <td>married</td>\n",
       "      <td>thirties</td>\n",
       "      <td>yes</td>\n",
       "      <td>med</td>\n",
       "    </tr>\n",
       "    <tr>\n",
       "      <th>3</th>\n",
       "      <td>medium</td>\n",
       "      <td>football</td>\n",
       "      <td>banking</td>\n",
       "      <td>single</td>\n",
       "      <td>thirties</td>\n",
       "      <td>yes</td>\n",
       "      <td>low</td>\n",
       "    </tr>\n",
       "    <tr>\n",
       "      <th>4</th>\n",
       "      <td>high</td>\n",
       "      <td>flying</td>\n",
       "      <td>media</td>\n",
       "      <td>married</td>\n",
       "      <td>fifties</td>\n",
       "      <td>yes</td>\n",
       "      <td>high</td>\n",
       "    </tr>\n",
       "  </tbody>\n",
       "</table>\n",
       "</div>"
      ],
      "text/plain": [
       "   Income Recreation        Job   Status Age Group House Owner  Risk\n",
       "0  medium     skiing     design   single  twenties          no  high\n",
       "1    high       golf    trading  married   forties         yes   low\n",
       "2     low   speedway  transport  married  thirties         yes   med\n",
       "3  medium   football    banking   single  thirties         yes   low\n",
       "4    high     flying      media  married   fifties         yes  high"
      ]
     },
     "execution_count": 1,
     "metadata": {},
     "output_type": "execute_result"
    }
   ],
   "source": [
    "import pandas as pd\n",
    "\n",
    "df = pd.read_csv('risk.csv')\n",
    "df.head()"
   ]
  },
  {
   "cell_type": "code",
   "execution_count": 3,
   "id": "28558baa",
   "metadata": {},
   "outputs": [
    {
     "name": "stdout",
     "output_type": "stream",
     "text": [
      "Unconditional probability of golf = 0.4\n",
      "Conditional probability of single given medRisk = 0.6666666666666666\n"
     ]
    }
   ],
   "source": [
    "n_golf = 0\n",
    "n_med = 0\n",
    "n_med_and_single = 0\n",
    "\n",
    "for i in range(len(df)):\n",
    "    if df.loc[i, 'Recreation'] == 'golf':\n",
    "        n_golf += 1\n",
    "    if df.loc[i, 'Risk'] == 'med':\n",
    "        n_med += 1\n",
    "    if (df.loc[i, 'Risk'] == 'med') and (df.loc[i, 'Status'] == 'single'):\n",
    "        n_med_and_single += 1\n",
    "\n",
    "uncon_prob_golf = n_golf/len(df)\n",
    "con_prob_single_given_med = n_med_and_single / n_med\n",
    "\n",
    "print('Unconditional probability of golf = {}'.format(uncon_prob_golf))\n",
    "print('Conditional probability of single given medRisk = {}'. format(con_prob_single_given_med))"
   ]
  },
  {
   "cell_type": "code",
   "execution_count": null,
   "id": "92f4376c",
   "metadata": {},
   "outputs": [],
   "source": []
  }
 ],
 "metadata": {
  "kernelspec": {
   "display_name": "Python 3 (ipykernel)",
   "language": "python",
   "name": "python3"
  },
  "language_info": {
   "codemirror_mode": {
    "name": "ipython",
    "version": 3
   },
   "file_extension": ".py",
   "mimetype": "text/x-python",
   "name": "python",
   "nbconvert_exporter": "python",
   "pygments_lexer": "ipython3",
   "version": "3.9.7"
  }
 },
 "nbformat": 4,
 "nbformat_minor": 5
}
